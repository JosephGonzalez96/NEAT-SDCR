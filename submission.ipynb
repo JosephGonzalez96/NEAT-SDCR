{
  "cells": [
    {
      "cell_type": "code",
      "execution_count": 2,
      "metadata": {
        "id": "Q1vb92WF2IFn"
      },
      "outputs": [],
      "source": [
        "# Code for Exercise 0\n",
        "def hello_world():\n",
        "  return \"Hello, world!\""
      ]
    },
    {
      "cell_type": "code",
      "execution_count": 6,
      "metadata": {
        "id": "IzQqh3Wq2IFq",
        "outputId": "5b1e6d16-7f0c-4498-8863-c6ae3703fd94",
        "colab": {
          "base_uri": "https://localhost:8080/"
        }
      },
      "outputs": [
        {
          "output_type": "stream",
          "name": "stdout",
          "text": [
            "1\n"
          ]
        }
      ],
      "source": [
        "# Code for Exercise 1\n",
        "def factorial(n):\n",
        "  if n==0:\n",
        "    result = 1\n",
        "  else:\n",
        "    result = n*factorial(n-1)\n",
        "  return result"
      ]
    }
  ],
  "metadata": {
    "kernelspec": {
      "display_name": "Python 3",
      "language": "python",
      "name": "python3"
    },
    "language_info": {
      "codemirror_mode": {
        "name": "ipython",
        "version": 3
      },
      "file_extension": ".py",
      "mimetype": "text/x-python",
      "name": "python",
      "nbconvert_exporter": "python",
      "pygments_lexer": "ipython3",
      "version": "3.7.3"
    },
    "colab": {
      "name": "submission.ipynb",
      "provenance": []
    }
  },
  "nbformat": 4,
  "nbformat_minor": 0
}